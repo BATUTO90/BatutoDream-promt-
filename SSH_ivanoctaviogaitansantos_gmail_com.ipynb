{
  "cells": [
    {
      "cell_type": "markdown",
      "metadata": {
        "id": "view-in-github",
        "colab_type": "text"
      },
      "source": [
        "<a href=\"https://colab.research.google.com/github/BATUTO90/Bat2/blob/main/SSH_ivanoctaviogaitansantos_gmail_com.ipynb\" target=\"_parent\"><img src=\"https://colab.research.google.com/assets/colab-badge.svg\" alt=\"Open In Colab\"/></a>"
      ]
    },
    {
      "cell_type": "code",
      "source": [
        "!mkdir -p /root/.ssh/\n",
        "!ssh-keygen -t ed25519 -f /root/.ssh/id_ed25519 -C \"ivanoctaviogaitansantos@gmail.com\""
      ],
      "metadata": {
        "colab": {
          "base_uri": "https://localhost:8080/"
        },
        "id": "6x2CqAnzIwZ3",
        "outputId": "063be8f9-8665-4a82-a45c-be3069aa7882"
      },
      "execution_count": null,
      "outputs": [
        {
          "output_type": "stream",
          "name": "stdout",
          "text": [
            "Generating public/private ed25519 key pair.\n",
            "Enter passphrase (empty for no passphrase): \n",
            "Enter same passphrase again: \n",
            "Your identification has been saved in /root/.ssh/id_ed25519\n",
            "Your public key has been saved in /root/.ssh/id_ed25519.pub\n",
            "The key fingerprint is:\n",
            "SHA256:WhMXUPNyKtfxgAUklRpNIk96r1Ym1VE5SPXfgH6ObKM ivanoctaviogaitansantos@gmail.com\n",
            "The key's randomart image is:\n",
            "+--[ED25519 256]--+\n",
            "|      . =BO+++o. |\n",
            "|       =.ooB.oo. |\n",
            "|      . +o= B ...|\n",
            "|       ..= * + .o|\n",
            "|        S * o o o|\n",
            "|       o O . +   |\n",
            "|      . o   = .  |\n",
            "|       .   o .   |\n",
            "|          E      |\n",
            "+----[SHA256]-----+\n"
          ]
        }
      ]
    }
  ],
  "metadata": {
    "colab": {
      "provenance": [],
      "authorship_tag": "ABX9TyPVkfX32ry5vCTArfqGj0KJ",
      "include_colab_link": true
    },
    "kernelspec": {
      "display_name": "Python 3",
      "name": "python3"
    },
    "language_info": {
      "name": "python"
    }
  },
  "nbformat": 4,
  "nbformat_minor": 0
}